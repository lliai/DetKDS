{
 "cells": [
  {
   "cell_type": "code",
   "execution_count": 1,
   "metadata": {},
   "outputs": [],
   "source": [
    "with open(\"work_dirs/retina_rx101_64x4d_distill_retina_r50_fpn_2x_coco/20230914_121905.log\", \"r\") as f:\n",
    "    line = f.readlines()[-1]"
   ]
  },
  {
   "cell_type": "code",
   "execution_count": 4,
   "metadata": {},
   "outputs": [
    {
     "data": {
      "text/plain": [
       "'0.0017'"
      ]
     },
     "execution_count": 4,
     "metadata": {},
     "output_type": "execute_result"
    }
   ],
   "source": [
    "start = line.find('bbox_mAP: ') + len('bbox_mAP: ')\n",
    "end = line.find(\", bbox_mAP_50: \")\n",
    "line[start: end]"
   ]
  },
  {
   "cell_type": "code",
   "execution_count": 5,
   "metadata": {},
   "outputs": [
    {
     "data": {
      "text/plain": [
       "torch.Size([32, 256, 7, 12])"
      ]
     },
     "execution_count": 5,
     "metadata": {},
     "output_type": "execute_result"
    }
   ],
   "source": [
    "import torch\n",
    "import torch.nn.functional as F\n",
    "\n",
    "x = torch.rand((32, 256, 7, 11))\n",
    "x_padded = F.pad(x, (0, 1, 0, 0, 0, 0, 0, 0))\n",
    "x_padded.shape"
   ]
  },
  {
   "cell_type": "code",
   "execution_count": 1,
   "metadata": {},
   "outputs": [
    {
     "data": {
      "text/plain": [
       "['epoch_1.pth',\n",
       " '20230917_142923.log.json',\n",
       " 'retina_rx101_64x4d_distill_retina_r50_fpn_2x_coco.py',\n",
       " 'best_bbox_mAP_epoch_1.pth',\n",
       " 'latest.pth',\n",
       " '20230917_143501.log.json',\n",
       " '20230917_145012.log',\n",
       " '20230917_142923.log']"
      ]
     },
     "execution_count": 1,
     "metadata": {},
     "output_type": "execute_result"
    }
   ],
   "source": [
    "import os \n",
    "\n",
    "os.listdir(\"work_dirs/retina_rx101_64x4d_distill_retina_r50_fpn_2x_coco\")"
   ]
  },
  {
   "cell_type": "code",
   "execution_count": 3,
   "metadata": {},
   "outputs": [
    {
     "data": {
      "text/plain": [
       "10"
      ]
     },
     "execution_count": 3,
     "metadata": {},
     "output_type": "execute_result"
    }
   ],
   "source": [
    "from mmcv.parallel import DataContainer\n",
    "import numpy as np\n",
    "\n",
    "DataContainer(\n",
    "    [\n",
    "        [{'filename': '/root/datasets/byf/datasets/coco25k/val2017/000000394940.jpg', 'ori_filename': '000000394940.jpg', 'ori_shape': (640, 426, 3), 'img_shape': (1202, 800, 3), 'pad_shape': (1216, 800, 3), 'scale_factor': np.array([1.8779342, 1.878125 , 1.8779342, 1.878125 ], dtype=np.float32), 'flip': False, 'flip_direction': None, 'img_norm_cfg': {'mean': np.array([123.675, 116.28 , 103.53 ], dtype=np.float32), 'std': np.array([58.395, 57.12 , 57.375], dtype=np.float32), 'to_rgb': True}, 'batch_input_shape': (1216, 800)}]\n",
    "    ]\n",
    ").data[0]"
   ]
  },
  {
   "cell_type": "code",
   "execution_count": 2,
   "metadata": {},
   "outputs": [
    {
     "data": {
      "text/plain": [
       "['work_dirs/retina_rx101_64x4d_distill_retina_r50_fpn_2x_coco/20230917_151734.log']"
      ]
     },
     "execution_count": 2,
     "metadata": {},
     "output_type": "execute_result"
    }
   ],
   "source": [
    "import glob\n",
    "\n",
    "log_files = glob.glob('work_dirs/retina_rx101_64x4d_distill_retina_r50_fpn_2x_coco/*.log')\n",
    "log_files"
   ]
  }
 ],
 "metadata": {
  "kernelspec": {
   "display_name": "openmmlab",
   "language": "python",
   "name": "python3"
  },
  "language_info": {
   "codemirror_mode": {
    "name": "ipython",
    "version": 3
   },
   "file_extension": ".py",
   "mimetype": "text/x-python",
   "name": "python",
   "nbconvert_exporter": "python",
   "pygments_lexer": "ipython3",
   "version": "3.9.18"
  },
  "orig_nbformat": 4
 },
 "nbformat": 4,
 "nbformat_minor": 2
}
